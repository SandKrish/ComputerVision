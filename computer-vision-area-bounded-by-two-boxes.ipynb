{
 "cells": [
  {
   "cell_type": "markdown",
   "id": "0c6640e8",
   "metadata": {
    "papermill": {
     "duration": 0.007233,
     "end_time": "2022-05-15T08:40:36.624291",
     "exception": false,
     "start_time": "2022-05-15T08:40:36.617058",
     "status": "completed"
    },
    "tags": []
   },
   "source": [
    "## This notebook is used to find area bounded by two boxes and if they are intersecting then point of intersection.\n",
    "\n",
    "This can be used in computer vision to identify the deviation in prediction."
   ]
  },
  {
   "cell_type": "code",
   "execution_count": 1,
   "id": "8a953028",
   "metadata": {
    "execution": {
     "iopub.execute_input": "2022-05-15T08:40:36.639410Z",
     "iopub.status.busy": "2022-05-15T08:40:36.638498Z",
     "iopub.status.idle": "2022-05-15T08:40:36.655063Z",
     "shell.execute_reply": "2022-05-15T08:40:36.654025Z"
    },
    "papermill": {
     "duration": 0.027477,
     "end_time": "2022-05-15T08:40:36.657940",
     "exception": false,
     "start_time": "2022-05-15T08:40:36.630463",
     "status": "completed"
    },
    "tags": []
   },
   "outputs": [],
   "source": [
    "def box_intersection(boxA, boxB):\n",
    "    xA = max(boxA[0], boxB[0])\n",
    "    yA = max(boxA[1], boxB[1])\n",
    "    xB = min(boxA[2], boxB[2])\n",
    "    yB = min(boxA[3], boxB[3])\n",
    "\n",
    "    if (xA > xB or yA > yB):\n",
    "      print('No intersection')\n",
    "    else:\n",
    "      interArea = (xB - xA + 1) * (yB - yA + 1)\n",
    "      print('Area of intersection is',interArea)    \n",
    "      print('\\npoint of intersection is ', '(', xA, ',', yA ,')','(', xB , ',', yA ,')', '(',xB, ',', yB ,')', '(',xA, ',', yB,')')"
   ]
  },
  {
   "cell_type": "markdown",
   "id": "cd06aa93",
   "metadata": {
    "papermill": {
     "duration": 0.005698,
     "end_time": "2022-05-15T08:40:36.669898",
     "exception": false,
     "start_time": "2022-05-15T08:40:36.664200",
     "status": "completed"
    },
    "tags": []
   },
   "source": [
    "## Input in boxA and boxB the coordinates of the representive boxes"
   ]
  },
  {
   "cell_type": "code",
   "execution_count": 2,
   "id": "774384a7",
   "metadata": {
    "execution": {
     "iopub.execute_input": "2022-05-15T08:40:36.683971Z",
     "iopub.status.busy": "2022-05-15T08:40:36.683305Z",
     "iopub.status.idle": "2022-05-15T08:40:36.688057Z",
     "shell.execute_reply": "2022-05-15T08:40:36.687357Z"
    },
    "papermill": {
     "duration": 0.01427,
     "end_time": "2022-05-15T08:40:36.690115",
     "exception": false,
     "start_time": "2022-05-15T08:40:36.675845",
     "status": "completed"
    },
    "tags": []
   },
   "outputs": [],
   "source": [
    "boxA = [39, 63, 203, 112]\n",
    "boxB = [54, 66, 198, 114]"
   ]
  },
  {
   "cell_type": "code",
   "execution_count": 3,
   "id": "225d7141",
   "metadata": {
    "execution": {
     "iopub.execute_input": "2022-05-15T08:40:36.703790Z",
     "iopub.status.busy": "2022-05-15T08:40:36.703430Z",
     "iopub.status.idle": "2022-05-15T08:40:36.711912Z",
     "shell.execute_reply": "2022-05-15T08:40:36.711012Z"
    },
    "papermill": {
     "duration": 0.018115,
     "end_time": "2022-05-15T08:40:36.714168",
     "exception": false,
     "start_time": "2022-05-15T08:40:36.696053",
     "status": "completed"
    },
    "tags": []
   },
   "outputs": [
    {
     "name": "stdout",
     "output_type": "stream",
     "text": [
      "Area of intersection is 6815\n",
      "\n",
      "point of intersection is  ( 54 , 66 ) ( 198 , 66 ) ( 198 , 112 ) ( 54 , 112 )\n"
     ]
    }
   ],
   "source": [
    "box_intersection(boxA,boxB)"
   ]
  }
 ],
 "metadata": {
  "kernelspec": {
   "display_name": "Python 3",
   "language": "python",
   "name": "python3"
  },
  "language_info": {
   "codemirror_mode": {
    "name": "ipython",
    "version": 3
   },
   "file_extension": ".py",
   "mimetype": "text/x-python",
   "name": "python",
   "nbconvert_exporter": "python",
   "pygments_lexer": "ipython3",
   "version": "3.7.12"
  },
  "papermill": {
   "default_parameters": {},
   "duration": 11.49352,
   "end_time": "2022-05-15T08:40:37.541912",
   "environment_variables": {},
   "exception": null,
   "input_path": "__notebook__.ipynb",
   "output_path": "__notebook__.ipynb",
   "parameters": {},
   "start_time": "2022-05-15T08:40:26.048392",
   "version": "2.3.4"
  }
 },
 "nbformat": 4,
 "nbformat_minor": 5
}
