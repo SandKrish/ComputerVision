{
 "cells": [
  {
   "cell_type": "markdown",
   "id": "0922dc40",
   "metadata": {
    "papermill": {
     "duration": 0.00755,
     "end_time": "2022-05-15T08:39:00.055722",
     "exception": false,
     "start_time": "2022-05-15T08:39:00.048172",
     "status": "completed"
    },
    "tags": []
   },
   "source": [
    "## This notebook is used to find area bounded by two boxes and if they are intersecting then point of intersection.\n",
    "\n",
    "This can be used in computer vision to identify the deviation in prediction."
   ]
  },
  {
   "cell_type": "code",
   "execution_count": 1,
   "id": "5f3acab4",
   "metadata": {
    "_cell_guid": "b1076dfc-b9ad-4769-8c92-a6c4dae69d19",
    "_uuid": "8f2839f25d086af736a60e9eeb907d3b93b6e0e5",
    "execution": {
     "iopub.execute_input": "2022-05-15T08:39:00.070652Z",
     "iopub.status.busy": "2022-05-15T08:39:00.069985Z",
     "iopub.status.idle": "2022-05-15T08:39:00.082000Z",
     "shell.execute_reply": "2022-05-15T08:39:00.080750Z"
    },
    "papermill": {
     "duration": 0.022335,
     "end_time": "2022-05-15T08:39:00.084351",
     "exception": false,
     "start_time": "2022-05-15T08:39:00.062016",
     "status": "completed"
    },
    "tags": []
   },
   "outputs": [],
   "source": [
    "# This Python 3 environment comes with many helpful analytics libraries installed\n",
    "# It is defined by the kaggle/python Docker image: https://github.com/kaggle/docker-python\n",
    "# For example, here's several helpful packages to load\n",
    "\n",
    "import numpy as np # linear algebra\n",
    "import pandas as pd # data processing, CSV file I/O (e.g. pd.read_csv)\n",
    "\n",
    "# Input data files are available in the read-only \"../input/\" directory\n",
    "# For example, running this (by clicking run or pressing Shift+Enter) will list all files under the input directory\n",
    "\n",
    "import os\n",
    "for dirname, _, filenames in os.walk('/kaggle/input'):\n",
    "    for filename in filenames:\n",
    "        print(os.path.join(dirname, filename))\n",
    "\n",
    "# You can write up to 20GB to the current directory (/kaggle/working/) that gets preserved as output when you create a version using \"Save & Run All\" \n",
    "# You can also write temporary files to /kaggle/temp/, but they won't be saved outside of the current session"
   ]
  },
  {
   "cell_type": "code",
   "execution_count": 2,
   "id": "62832917",
   "metadata": {
    "execution": {
     "iopub.execute_input": "2022-05-15T08:39:00.098601Z",
     "iopub.status.busy": "2022-05-15T08:39:00.097792Z",
     "iopub.status.idle": "2022-05-15T08:39:00.105758Z",
     "shell.execute_reply": "2022-05-15T08:39:00.104910Z"
    },
    "papermill": {
     "duration": 0.017299,
     "end_time": "2022-05-15T08:39:00.107844",
     "exception": false,
     "start_time": "2022-05-15T08:39:00.090545",
     "status": "completed"
    },
    "tags": []
   },
   "outputs": [],
   "source": [
    "def box_intersection(boxA, boxB):\n",
    "    xA = max(boxA[0], boxB[0])\n",
    "    yA = max(boxA[1], boxB[1])\n",
    "    xB = min(boxA[2], boxB[2])\n",
    "    yB = min(boxA[3], boxB[3])\n",
    "\n",
    "    if (xA > xB or yA > yB):\n",
    "      print('No intersection')\n",
    "    else:\n",
    "      interArea = (xB - xA + 1) * (yB - yA + 1)\n",
    "      print('Area of intersection is',interArea)    \n",
    "      print('\\npoint of intersection is ', '(', xA, ',', yA ,')','(', xB , ',', yA ,')', '(',xB, ',', yB ,')', '(',xA, ',', yB,')')"
   ]
  },
  {
   "cell_type": "code",
   "execution_count": 3,
   "id": "c1ab1d43",
   "metadata": {
    "execution": {
     "iopub.execute_input": "2022-05-15T08:39:00.122380Z",
     "iopub.status.busy": "2022-05-15T08:39:00.122050Z",
     "iopub.status.idle": "2022-05-15T08:39:00.126303Z",
     "shell.execute_reply": "2022-05-15T08:39:00.125749Z"
    },
    "papermill": {
     "duration": 0.013837,
     "end_time": "2022-05-15T08:39:00.128091",
     "exception": false,
     "start_time": "2022-05-15T08:39:00.114254",
     "status": "completed"
    },
    "tags": []
   },
   "outputs": [],
   "source": [
    "boxA = [39, 63, 203, 112]\n",
    "boxB = [54, 66, 198, 114]"
   ]
  },
  {
   "cell_type": "code",
   "execution_count": 4,
   "id": "0e8431e1",
   "metadata": {
    "execution": {
     "iopub.execute_input": "2022-05-15T08:39:00.142704Z",
     "iopub.status.busy": "2022-05-15T08:39:00.142207Z",
     "iopub.status.idle": "2022-05-15T08:39:00.148737Z",
     "shell.execute_reply": "2022-05-15T08:39:00.148169Z"
    },
    "papermill": {
     "duration": 0.016627,
     "end_time": "2022-05-15T08:39:00.151119",
     "exception": false,
     "start_time": "2022-05-15T08:39:00.134492",
     "status": "completed"
    },
    "tags": []
   },
   "outputs": [
    {
     "name": "stdout",
     "output_type": "stream",
     "text": [
      "Area of intersection is 6815\n",
      "\n",
      "point of intersection is  ( 54 , 66 ) ( 198 , 66 ) ( 198 , 112 ) ( 54 , 112 )\n"
     ]
    }
   ],
   "source": [
    "box_intersection(boxA,boxB)"
   ]
  }
 ],
 "metadata": {
  "kernelspec": {
   "display_name": "Python 3",
   "language": "python",
   "name": "python3"
  },
  "language_info": {
   "codemirror_mode": {
    "name": "ipython",
    "version": 3
   },
   "file_extension": ".py",
   "mimetype": "text/x-python",
   "name": "python",
   "nbconvert_exporter": "python",
   "pygments_lexer": "ipython3",
   "version": "3.7.12"
  },
  "papermill": {
   "default_parameters": {},
   "duration": 11.241028,
   "end_time": "2022-05-15T08:39:00.779769",
   "environment_variables": {},
   "exception": null,
   "input_path": "__notebook__.ipynb",
   "output_path": "__notebook__.ipynb",
   "parameters": {},
   "start_time": "2022-05-15T08:38:49.538741",
   "version": "2.3.4"
  }
 },
 "nbformat": 4,
 "nbformat_minor": 5
}
