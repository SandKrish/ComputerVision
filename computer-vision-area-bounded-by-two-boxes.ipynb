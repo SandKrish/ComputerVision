{
 "cells": [
  {
   "cell_type": "markdown",
   "id": "66d6213b",
   "metadata": {
    "papermill": {
     "duration": 0.007863,
     "end_time": "2022-05-15T08:40:13.259715",
     "exception": false,
     "start_time": "2022-05-15T08:40:13.251852",
     "status": "completed"
    },
    "tags": []
   },
   "source": [
    "## This notebook is used to find area bounded by two boxes and if they are intersecting then point of intersection.\n",
    "\n",
    "This can be used in computer vision to identify the deviation in prediction."
   ]
  },
  {
   "cell_type": "code",
   "execution_count": 1,
   "id": "adcc91d1",
   "metadata": {
    "_cell_guid": "b1076dfc-b9ad-4769-8c92-a6c4dae69d19",
    "_uuid": "8f2839f25d086af736a60e9eeb907d3b93b6e0e5",
    "execution": {
     "iopub.execute_input": "2022-05-15T08:40:13.275992Z",
     "iopub.status.busy": "2022-05-15T08:40:13.275233Z",
     "iopub.status.idle": "2022-05-15T08:40:13.289071Z",
     "shell.execute_reply": "2022-05-15T08:40:13.288464Z"
    },
    "papermill": {
     "duration": 0.024615,
     "end_time": "2022-05-15T08:40:13.291282",
     "exception": false,
     "start_time": "2022-05-15T08:40:13.266667",
     "status": "completed"
    },
    "tags": []
   },
   "outputs": [],
   "source": [
    "# This Python 3 environment comes with many helpful analytics libraries installed\n",
    "# It is defined by the kaggle/python Docker image: https://github.com/kaggle/docker-python\n",
    "# For example, here's several helpful packages to load\n",
    "\n",
    "import numpy as np # linear algebra\n",
    "import pandas as pd # data processing, CSV file I/O (e.g. pd.read_csv)\n",
    "\n",
    "# Input data files are available in the read-only \"../input/\" directory\n",
    "# For example, running this (by clicking run or pressing Shift+Enter) will list all files under the input directory\n",
    "\n",
    "import os\n",
    "for dirname, _, filenames in os.walk('/kaggle/input'):\n",
    "    for filename in filenames:\n",
    "        print(os.path.join(dirname, filename))\n",
    "\n",
    "# You can write up to 20GB to the current directory (/kaggle/working/) that gets preserved as output when you create a version using \"Save & Run All\" \n",
    "# You can also write temporary files to /kaggle/temp/, but they won't be saved outside of the current session"
   ]
  },
  {
   "cell_type": "code",
   "execution_count": 2,
   "id": "442ba00b",
   "metadata": {
    "execution": {
     "iopub.execute_input": "2022-05-15T08:40:13.306578Z",
     "iopub.status.busy": "2022-05-15T08:40:13.306054Z",
     "iopub.status.idle": "2022-05-15T08:40:13.312779Z",
     "shell.execute_reply": "2022-05-15T08:40:13.312200Z"
    },
    "papermill": {
     "duration": 0.016527,
     "end_time": "2022-05-15T08:40:13.314700",
     "exception": false,
     "start_time": "2022-05-15T08:40:13.298173",
     "status": "completed"
    },
    "tags": []
   },
   "outputs": [],
   "source": [
    "def box_intersection(boxA, boxB):\n",
    "    xA = max(boxA[0], boxB[0])\n",
    "    yA = max(boxA[1], boxB[1])\n",
    "    xB = min(boxA[2], boxB[2])\n",
    "    yB = min(boxA[3], boxB[3])\n",
    "\n",
    "    if (xA > xB or yA > yB):\n",
    "      print('No intersection')\n",
    "    else:\n",
    "      interArea = (xB - xA + 1) * (yB - yA + 1)\n",
    "      print('Area of intersection is',interArea)    \n",
    "      print('\\npoint of intersection is ', '(', xA, ',', yA ,')','(', xB , ',', yA ,')', '(',xB, ',', yB ,')', '(',xA, ',', yB,')')"
   ]
  },
  {
   "cell_type": "markdown",
   "id": "646db8a4",
   "metadata": {
    "papermill": {
     "duration": 0.006317,
     "end_time": "2022-05-15T08:40:13.327805",
     "exception": false,
     "start_time": "2022-05-15T08:40:13.321488",
     "status": "completed"
    },
    "tags": []
   },
   "source": [
    "## Input in boxA and boxB the coordinates of the representive boxes"
   ]
  },
  {
   "cell_type": "code",
   "execution_count": 3,
   "id": "1d16ba0e",
   "metadata": {
    "execution": {
     "iopub.execute_input": "2022-05-15T08:40:13.342460Z",
     "iopub.status.busy": "2022-05-15T08:40:13.342166Z",
     "iopub.status.idle": "2022-05-15T08:40:13.345705Z",
     "shell.execute_reply": "2022-05-15T08:40:13.345117Z"
    },
    "papermill": {
     "duration": 0.013066,
     "end_time": "2022-05-15T08:40:13.347512",
     "exception": false,
     "start_time": "2022-05-15T08:40:13.334446",
     "status": "completed"
    },
    "tags": []
   },
   "outputs": [],
   "source": [
    "boxA = [39, 63, 203, 112]\n",
    "boxB = [54, 66, 198, 114]"
   ]
  },
  {
   "cell_type": "code",
   "execution_count": 4,
   "id": "510f992d",
   "metadata": {
    "execution": {
     "iopub.execute_input": "2022-05-15T08:40:13.362862Z",
     "iopub.status.busy": "2022-05-15T08:40:13.362311Z",
     "iopub.status.idle": "2022-05-15T08:40:13.369372Z",
     "shell.execute_reply": "2022-05-15T08:40:13.368757Z"
    },
    "papermill": {
     "duration": 0.017136,
     "end_time": "2022-05-15T08:40:13.371367",
     "exception": false,
     "start_time": "2022-05-15T08:40:13.354231",
     "status": "completed"
    },
    "tags": []
   },
   "outputs": [
    {
     "name": "stdout",
     "output_type": "stream",
     "text": [
      "Area of intersection is 6815\n",
      "\n",
      "point of intersection is  ( 54 , 66 ) ( 198 , 66 ) ( 198 , 112 ) ( 54 , 112 )\n"
     ]
    }
   ],
   "source": [
    "box_intersection(boxA,boxB)"
   ]
  }
 ],
 "metadata": {
  "kernelspec": {
   "display_name": "Python 3",
   "language": "python",
   "name": "python3"
  },
  "language_info": {
   "codemirror_mode": {
    "name": "ipython",
    "version": 3
   },
   "file_extension": ".py",
   "mimetype": "text/x-python",
   "name": "python",
   "nbconvert_exporter": "python",
   "pygments_lexer": "ipython3",
   "version": "3.7.12"
  },
  "papermill": {
   "default_parameters": {},
   "duration": 10.539899,
   "end_time": "2022-05-15T08:40:13.999238",
   "environment_variables": {},
   "exception": null,
   "input_path": "__notebook__.ipynb",
   "output_path": "__notebook__.ipynb",
   "parameters": {},
   "start_time": "2022-05-15T08:40:03.459339",
   "version": "2.3.4"
  }
 },
 "nbformat": 4,
 "nbformat_minor": 5
}
